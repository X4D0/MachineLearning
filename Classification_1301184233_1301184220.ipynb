{
  "nbformat": 4,
  "nbformat_minor": 0,
  "metadata": {
    "colab": {
      "name": "Classification_1301184233_1301184220.ipynb",
      "provenance": [],
      "collapsed_sections": [],
      "include_colab_link": true
    },
    "kernelspec": {
      "name": "python3",
      "display_name": "Python 3"
    },
    "language_info": {
      "name": "python"
    }
  },
  "cells": [
    {
      "cell_type": "markdown",
      "metadata": {
        "id": "view-in-github",
        "colab_type": "text"
      },
      "source": [
        "<a href=\"https://colab.research.google.com/github/X4D0/MachineLearning/blob/main/Classification_1301184233_1301184220.ipynb\" target=\"_parent\"><img src=\"https://colab.research.google.com/assets/colab-badge.svg\" alt=\"Open In Colab\"/></a>"
      ]
    },
    {
      "cell_type": "markdown",
      "metadata": {
        "id": "hAwJF6rAWvGM"
      },
      "source": [
        "##Tugas Besar 2\n",
        "###MK Machine Learning 2020/2021"
      ]
    },
    {
      "cell_type": "markdown",
      "metadata": {
        "id": "7AgnAXDnW0zl"
      },
      "source": [
        "<b>Kelompok<b> 4 : <br> \n",
        "\n",
        "*   Rayhan Rahmanda (1301184233)\n",
        "*   Muhammad Afif Raihan (1301184220)\n",
        "\n",
        "\n",
        "<b>Kelas<b>: IF-42-04<br>\n",
        "\n",
        "> Dalam penelitian ini, masalah yang akan diselesaikan adalah melakukan klasifikasi terhadap data-data dari dua dataset yang sudah disediakan, yaitu data_train dan data_test. Penelitian ini merupakan penelitian tahap lanjutan dari penelitian tahap clustering. Penelitian ini akan menggunakan metode klasifikasi logistic regression yang mana hasil akhirnya akan  mengklasifikasikan menjadi 2 output, yaitu apakah “besok turun salju” yang dinotasikan dengan angka (1) atau “besok tidak turun salju” yang dinotasikan sebagai angka (0).\n",
        "\n"
      ]
    },
    {
      "cell_type": "markdown",
      "metadata": {
        "id": "pNt6C6aNYIUu"
      },
      "source": [
        "# Pre-Processing Data"
      ]
    },
    {
      "cell_type": "markdown",
      "metadata": {
        "id": "MWs1BmTLYbHW"
      },
      "source": [
        "### Create Dataframe from the given Datasets & Deal with Missing Values"
      ]
    },
    {
      "cell_type": "code",
      "metadata": {
        "id": "HX2MTfOLXADZ"
      },
      "source": [
        "import random\n",
        "import pandas as pd\n",
        "import numpy as np\n",
        "from sklearn.linear_model import LogisticRegression\n",
        "from sklearn.model_selection import train_test_split\n",
        "from sklearn import metrics\n",
        "import seaborn as sns\n",
        "import matplotlib.pyplot as plt\n",
        "\n",
        "# Import Dataset into Dataframe\n",
        "df_train = pd.read_csv('https://raw.githubusercontent.com/X4D0/MachineLearning/main/Dataset/salju_train.csv')\n",
        "df_test = pd.read_csv('https://raw.githubusercontent.com/X4D0/MachineLearning/main/Dataset/salju_test.csv')\n",
        "\n",
        "# Drop Missing Values\n",
        "df_test = df_test.dropna(axis = 0)\n",
        "df_train = df_train.dropna(axis = 0)"
      ],
      "execution_count": null,
      "outputs": []
    },
    {
      "cell_type": "code",
      "metadata": {
        "colab": {
          "base_uri": "https://localhost:8080/",
          "height": 758
        },
        "id": "Qxx65KG6Misw",
        "outputId": "92881528-0b9b-4ae9-8b43-b9adba63b4d5"
      },
      "source": [
        "# print(df_test.shape)\n",
        "# print(df_train.shape)\n",
        "pd.DataFrame(df_train.columns,columns={\"Nama Kolom/Attribut\"})"
      ],
      "execution_count": null,
      "outputs": [
        {
          "output_type": "execute_result",
          "data": {
            "text/html": [
              "<div>\n",
              "<style scoped>\n",
              "    .dataframe tbody tr th:only-of-type {\n",
              "        vertical-align: middle;\n",
              "    }\n",
              "\n",
              "    .dataframe tbody tr th {\n",
              "        vertical-align: top;\n",
              "    }\n",
              "\n",
              "    .dataframe thead th {\n",
              "        text-align: right;\n",
              "    }\n",
              "</style>\n",
              "<table border=\"1\" class=\"dataframe\">\n",
              "  <thead>\n",
              "    <tr style=\"text-align: right;\">\n",
              "      <th></th>\n",
              "      <th>Nama Kolom/Attribut</th>\n",
              "    </tr>\n",
              "  </thead>\n",
              "  <tbody>\n",
              "    <tr>\n",
              "      <th>0</th>\n",
              "      <td>id</td>\n",
              "    </tr>\n",
              "    <tr>\n",
              "      <th>1</th>\n",
              "      <td>Tanggal</td>\n",
              "    </tr>\n",
              "    <tr>\n",
              "      <th>2</th>\n",
              "      <td>KodeLokasi</td>\n",
              "    </tr>\n",
              "    <tr>\n",
              "      <th>3</th>\n",
              "      <td>SuhuMin</td>\n",
              "    </tr>\n",
              "    <tr>\n",
              "      <th>4</th>\n",
              "      <td>SuhuMax</td>\n",
              "    </tr>\n",
              "    <tr>\n",
              "      <th>5</th>\n",
              "      <td>Hujan</td>\n",
              "    </tr>\n",
              "    <tr>\n",
              "      <th>6</th>\n",
              "      <td>Penguapan</td>\n",
              "    </tr>\n",
              "    <tr>\n",
              "      <th>7</th>\n",
              "      <td>SinarMatahari</td>\n",
              "    </tr>\n",
              "    <tr>\n",
              "      <th>8</th>\n",
              "      <td>ArahAnginTerkencang</td>\n",
              "    </tr>\n",
              "    <tr>\n",
              "      <th>9</th>\n",
              "      <td>KecepatanAnginTerkencang</td>\n",
              "    </tr>\n",
              "    <tr>\n",
              "      <th>10</th>\n",
              "      <td>ArahAngin9am</td>\n",
              "    </tr>\n",
              "    <tr>\n",
              "      <th>11</th>\n",
              "      <td>ArahAngin3pm</td>\n",
              "    </tr>\n",
              "    <tr>\n",
              "      <th>12</th>\n",
              "      <td>KecepatanAngin9am</td>\n",
              "    </tr>\n",
              "    <tr>\n",
              "      <th>13</th>\n",
              "      <td>KecepatanAngin3pm</td>\n",
              "    </tr>\n",
              "    <tr>\n",
              "      <th>14</th>\n",
              "      <td>Kelembaban9am</td>\n",
              "    </tr>\n",
              "    <tr>\n",
              "      <th>15</th>\n",
              "      <td>Kelembaban3pm</td>\n",
              "    </tr>\n",
              "    <tr>\n",
              "      <th>16</th>\n",
              "      <td>Tekanan9am</td>\n",
              "    </tr>\n",
              "    <tr>\n",
              "      <th>17</th>\n",
              "      <td>Tekanan3pm</td>\n",
              "    </tr>\n",
              "    <tr>\n",
              "      <th>18</th>\n",
              "      <td>Awan9am</td>\n",
              "    </tr>\n",
              "    <tr>\n",
              "      <th>19</th>\n",
              "      <td>Awan3pm</td>\n",
              "    </tr>\n",
              "    <tr>\n",
              "      <th>20</th>\n",
              "      <td>Suhu9am</td>\n",
              "    </tr>\n",
              "    <tr>\n",
              "      <th>21</th>\n",
              "      <td>Suhu3pm</td>\n",
              "    </tr>\n",
              "    <tr>\n",
              "      <th>22</th>\n",
              "      <td>BersaljuHariIni</td>\n",
              "    </tr>\n",
              "    <tr>\n",
              "      <th>23</th>\n",
              "      <td>BersaljuBesok</td>\n",
              "    </tr>\n",
              "  </tbody>\n",
              "</table>\n",
              "</div>"
            ],
            "text/plain": [
              "         Nama Kolom/Attribut\n",
              "0                         id\n",
              "1                    Tanggal\n",
              "2                 KodeLokasi\n",
              "3                    SuhuMin\n",
              "4                    SuhuMax\n",
              "5                      Hujan\n",
              "6                  Penguapan\n",
              "7              SinarMatahari\n",
              "8        ArahAnginTerkencang\n",
              "9   KecepatanAnginTerkencang\n",
              "10              ArahAngin9am\n",
              "11              ArahAngin3pm\n",
              "12         KecepatanAngin9am\n",
              "13         KecepatanAngin3pm\n",
              "14             Kelembaban9am\n",
              "15             Kelembaban3pm\n",
              "16                Tekanan9am\n",
              "17                Tekanan3pm\n",
              "18                   Awan9am\n",
              "19                   Awan3pm\n",
              "20                   Suhu9am\n",
              "21                   Suhu3pm\n",
              "22           BersaljuHariIni\n",
              "23             BersaljuBesok"
            ]
          },
          "metadata": {
            "tags": []
          },
          "execution_count": 2
        }
      ]
    },
    {
      "cell_type": "markdown",
      "metadata": {
        "id": "zqBe9oQQm5A1"
      },
      "source": [
        "Dari informasi diatas dapat dilihat bahwa terdapat perbedaan pada jumlah kolom nya, Dataframe Train memiliki 1 Kolom lebih yaitu Kolom id sehingga perlu di Drop atau dihilangkan. Selain itu perlu dilakukan drop untuk atribut yang tidak berpengaruh dalam Classification ini seperti Tanggal, KodeLokasi, dan beberapa atribut lain nya yang bertipe Object. Dikarenakan pada saat perhitungan Correlation Matrix membutuhkan kolom-kolom yang berisi Angka/Numerik maka Kolom BersaljuBesok perlu diubah dari yes/no menjadi 1/0.\n",
        "\n"
      ]
    },
    {
      "cell_type": "code",
      "metadata": {
        "colab": {
          "base_uri": "https://localhost:8080/",
          "height": 215
        },
        "id": "dN1Ln3sUnUDw",
        "outputId": "2a93fa80-872b-45d2-dcea-6790fb5320a6"
      },
      "source": [
        "# Drop unnecessary Columns\n",
        "df_train = df_train.drop(['id', 'Tanggal', 'KodeLokasi', 'ArahAnginTerkencang', 'ArahAngin9am', 'ArahAngin3pm', 'BersaljuHariIni'], axis=1)\n",
        "df_test = df_test.drop(['Tanggal', 'KodeLokasi', 'ArahAnginTerkencang', 'ArahAngin9am', 'ArahAngin3pm', 'BersaljuHariIni'], axis=1)\n",
        "\n",
        "# Change Target Column value from yes/no to 1/0\n",
        "df_train = df_train.replace({'BersaljuBesok': {'Ya': 1, 'Tidak': 0}})\n",
        "df_test = df_test.replace({'BersaljuBesok': {'Yes': 1, 'No': 0}})\n",
        "df_test.head()"
      ],
      "execution_count": null,
      "outputs": [
        {
          "output_type": "execute_result",
          "data": {
            "text/html": [
              "<div>\n",
              "<style scoped>\n",
              "    .dataframe tbody tr th:only-of-type {\n",
              "        vertical-align: middle;\n",
              "    }\n",
              "\n",
              "    .dataframe tbody tr th {\n",
              "        vertical-align: top;\n",
              "    }\n",
              "\n",
              "    .dataframe thead th {\n",
              "        text-align: right;\n",
              "    }\n",
              "</style>\n",
              "<table border=\"1\" class=\"dataframe\">\n",
              "  <thead>\n",
              "    <tr style=\"text-align: right;\">\n",
              "      <th></th>\n",
              "      <th>SuhuMin</th>\n",
              "      <th>SuhuMax</th>\n",
              "      <th>Hujan</th>\n",
              "      <th>Penguapan</th>\n",
              "      <th>SinarMatahari</th>\n",
              "      <th>KecepatanAnginTerkencang</th>\n",
              "      <th>KecepatanAngin9am</th>\n",
              "      <th>KecepatanAngin3pm</th>\n",
              "      <th>Kelembaban9am</th>\n",
              "      <th>Kelembaban3pm</th>\n",
              "      <th>Tekanan9am</th>\n",
              "      <th>Tekanan3pm</th>\n",
              "      <th>Awan9am</th>\n",
              "      <th>Awan3pm</th>\n",
              "      <th>Suhu9am</th>\n",
              "      <th>Suhu3pm</th>\n",
              "      <th>BersaljuBesok</th>\n",
              "    </tr>\n",
              "  </thead>\n",
              "  <tbody>\n",
              "    <tr>\n",
              "      <th>2</th>\n",
              "      <td>9.2</td>\n",
              "      <td>27.2</td>\n",
              "      <td>0.0</td>\n",
              "      <td>5.2</td>\n",
              "      <td>10.4</td>\n",
              "      <td>33.0</td>\n",
              "      <td>13.0</td>\n",
              "      <td>19.0</td>\n",
              "      <td>89.0</td>\n",
              "      <td>27.0</td>\n",
              "      <td>1018.6</td>\n",
              "      <td>1015.7</td>\n",
              "      <td>0.0</td>\n",
              "      <td>1.0</td>\n",
              "      <td>13.9</td>\n",
              "      <td>26.3</td>\n",
              "      <td>0</td>\n",
              "    </tr>\n",
              "    <tr>\n",
              "      <th>3</th>\n",
              "      <td>17.7</td>\n",
              "      <td>27.0</td>\n",
              "      <td>0.0</td>\n",
              "      <td>4.6</td>\n",
              "      <td>6.7</td>\n",
              "      <td>35.0</td>\n",
              "      <td>20.0</td>\n",
              "      <td>15.0</td>\n",
              "      <td>55.0</td>\n",
              "      <td>41.0</td>\n",
              "      <td>1010.2</td>\n",
              "      <td>1008.6</td>\n",
              "      <td>7.0</td>\n",
              "      <td>6.0</td>\n",
              "      <td>22.3</td>\n",
              "      <td>26.4</td>\n",
              "      <td>0</td>\n",
              "    </tr>\n",
              "    <tr>\n",
              "      <th>7</th>\n",
              "      <td>14.4</td>\n",
              "      <td>22.4</td>\n",
              "      <td>0.0</td>\n",
              "      <td>4.4</td>\n",
              "      <td>3.9</td>\n",
              "      <td>28.0</td>\n",
              "      <td>9.0</td>\n",
              "      <td>11.0</td>\n",
              "      <td>57.0</td>\n",
              "      <td>51.0</td>\n",
              "      <td>1022.6</td>\n",
              "      <td>1020.7</td>\n",
              "      <td>7.0</td>\n",
              "      <td>7.0</td>\n",
              "      <td>18.3</td>\n",
              "      <td>20.9</td>\n",
              "      <td>0</td>\n",
              "    </tr>\n",
              "    <tr>\n",
              "      <th>8</th>\n",
              "      <td>20.3</td>\n",
              "      <td>33.7</td>\n",
              "      <td>0.0</td>\n",
              "      <td>11.8</td>\n",
              "      <td>11.1</td>\n",
              "      <td>52.0</td>\n",
              "      <td>20.0</td>\n",
              "      <td>24.0</td>\n",
              "      <td>54.0</td>\n",
              "      <td>33.0</td>\n",
              "      <td>1007.7</td>\n",
              "      <td>1005.6</td>\n",
              "      <td>5.0</td>\n",
              "      <td>5.0</td>\n",
              "      <td>24.6</td>\n",
              "      <td>32.2</td>\n",
              "      <td>0</td>\n",
              "    </tr>\n",
              "    <tr>\n",
              "      <th>10</th>\n",
              "      <td>8.1</td>\n",
              "      <td>18.2</td>\n",
              "      <td>0.0</td>\n",
              "      <td>1.6</td>\n",
              "      <td>5.1</td>\n",
              "      <td>31.0</td>\n",
              "      <td>11.0</td>\n",
              "      <td>15.0</td>\n",
              "      <td>94.0</td>\n",
              "      <td>48.0</td>\n",
              "      <td>1027.1</td>\n",
              "      <td>1024.5</td>\n",
              "      <td>7.0</td>\n",
              "      <td>7.0</td>\n",
              "      <td>10.3</td>\n",
              "      <td>17.7</td>\n",
              "      <td>0</td>\n",
              "    </tr>\n",
              "  </tbody>\n",
              "</table>\n",
              "</div>"
            ],
            "text/plain": [
              "    SuhuMin  SuhuMax  Hujan  ...  Suhu9am  Suhu3pm  BersaljuBesok\n",
              "2       9.2     27.2    0.0  ...     13.9     26.3              0\n",
              "3      17.7     27.0    0.0  ...     22.3     26.4              0\n",
              "7      14.4     22.4    0.0  ...     18.3     20.9              0\n",
              "8      20.3     33.7    0.0  ...     24.6     32.2              0\n",
              "10      8.1     18.2    0.0  ...     10.3     17.7              0\n",
              "\n",
              "[5 rows x 17 columns]"
            ]
          },
          "metadata": {
            "tags": []
          },
          "execution_count": 3
        }
      ]
    },
    {
      "cell_type": "markdown",
      "metadata": {
        "id": "YRWzRKBa34rH"
      },
      "source": [
        "### Data Exploration"
      ]
    },
    {
      "cell_type": "markdown",
      "metadata": {
        "id": "kRwhPe4NMd7O"
      },
      "source": [
        "View Dataframe Information :"
      ]
    },
    {
      "cell_type": "code",
      "metadata": {
        "colab": {
          "base_uri": "https://localhost:8080/"
        },
        "id": "efptetpZMwjJ",
        "outputId": "a96e9c15-34fb-49da-ba3b-00da8bbfac34"
      },
      "source": [
        "print(df_train.info())"
      ],
      "execution_count": null,
      "outputs": [
        {
          "output_type": "stream",
          "text": [
            "<class 'pandas.core.frame.DataFrame'>\n",
            "Int64Index: 42411 entries, 3 to 109093\n",
            "Data columns (total 17 columns):\n",
            " #   Column                    Non-Null Count  Dtype  \n",
            "---  ------                    --------------  -----  \n",
            " 0   SuhuMin                   42411 non-null  float64\n",
            " 1   SuhuMax                   42411 non-null  float64\n",
            " 2   Hujan                     42411 non-null  float64\n",
            " 3   Penguapan                 42411 non-null  float64\n",
            " 4   SinarMatahari             42411 non-null  float64\n",
            " 5   KecepatanAnginTerkencang  42411 non-null  float64\n",
            " 6   KecepatanAngin9am         42411 non-null  float64\n",
            " 7   KecepatanAngin3pm         42411 non-null  float64\n",
            " 8   Kelembaban9am             42411 non-null  float64\n",
            " 9   Kelembaban3pm             42411 non-null  float64\n",
            " 10  Tekanan9am                42411 non-null  float64\n",
            " 11  Tekanan3pm                42411 non-null  float64\n",
            " 12  Awan9am                   42411 non-null  float64\n",
            " 13  Awan3pm                   42411 non-null  float64\n",
            " 14  Suhu9am                   42411 non-null  float64\n",
            " 15  Suhu3pm                   42411 non-null  float64\n",
            " 16  BersaljuBesok             42411 non-null  int64  \n",
            "dtypes: float64(16), int64(1)\n",
            "memory usage: 5.8 MB\n",
            "None\n"
          ],
          "name": "stdout"
        }
      ]
    },
    {
      "cell_type": "code",
      "metadata": {
        "colab": {
          "base_uri": "https://localhost:8080/"
        },
        "id": "CB_HVD9gwkJH",
        "outputId": "88b9acad-9c7c-42b3-9342-d1509085b5de"
      },
      "source": [
        "print(df_test.info())"
      ],
      "execution_count": null,
      "outputs": [
        {
          "output_type": "stream",
          "text": [
            "<class 'pandas.core.frame.DataFrame'>\n",
            "Int64Index: 7016 entries, 2 to 18180\n",
            "Data columns (total 17 columns):\n",
            " #   Column                    Non-Null Count  Dtype  \n",
            "---  ------                    --------------  -----  \n",
            " 0   SuhuMin                   7016 non-null   float64\n",
            " 1   SuhuMax                   7016 non-null   float64\n",
            " 2   Hujan                     7016 non-null   float64\n",
            " 3   Penguapan                 7016 non-null   float64\n",
            " 4   SinarMatahari             7016 non-null   float64\n",
            " 5   KecepatanAnginTerkencang  7016 non-null   float64\n",
            " 6   KecepatanAngin9am         7016 non-null   float64\n",
            " 7   KecepatanAngin3pm         7016 non-null   float64\n",
            " 8   Kelembaban9am             7016 non-null   float64\n",
            " 9   Kelembaban3pm             7016 non-null   float64\n",
            " 10  Tekanan9am                7016 non-null   float64\n",
            " 11  Tekanan3pm                7016 non-null   float64\n",
            " 12  Awan9am                   7016 non-null   float64\n",
            " 13  Awan3pm                   7016 non-null   float64\n",
            " 14  Suhu9am                   7016 non-null   float64\n",
            " 15  Suhu3pm                   7016 non-null   float64\n",
            " 16  BersaljuBesok             7016 non-null   int64  \n",
            "dtypes: float64(16), int64(1)\n",
            "memory usage: 986.6 KB\n",
            "None\n"
          ],
          "name": "stdout"
        }
      ]
    },
    {
      "cell_type": "markdown",
      "metadata": {
        "id": "cX3iboeupO9H"
      },
      "source": [
        "Kita juga dapat melihat variabel mana yang paling berpengaruh dalam memprediksi musim Salju di Hari esok dengan menggunakan Correlation Matrix."
      ]
    },
    {
      "cell_type": "code",
      "metadata": {
        "id": "pMQ6Wzf7GyN_",
        "colab": {
          "base_uri": "https://localhost:8080/",
          "height": 733
        },
        "outputId": "208017b9-faac-45a9-b655-3daace67296e"
      },
      "source": [
        "# Correlation between all variables and the target\n",
        "korelasi = df_test.corr()[['BersaljuBesok']] # The Target Column is BersaljuBesok\n",
        "plt.figure(figsize=(12, 12)) # Figure Size\n",
        "plt.title('Correlation') # Figure Title\n",
        "sns.heatmap(korelasi.sort_values(by='BersaljuBesok', ascending=False), vmin=-1, vmax=1, annot=True, fmt='.2f', square=True, cmap = 'Reds_r') # Visualize the heatmap"
      ],
      "execution_count": null,
      "outputs": [
        {
          "output_type": "execute_result",
          "data": {
            "text/plain": [
              "<matplotlib.axes._subplots.AxesSubplot at 0x7f9192a75110>"
            ]
          },
          "metadata": {
            "tags": []
          },
          "execution_count": 6
        },
        {
          "output_type": "display_data",
          "data": {
            "image/png": "[encoded data removed]",
            "text/plain": [
              "<Figure size 864x864 with 2 Axes>"
            ]
          },
          "metadata": {
            "tags": [],
            "needs_background": "light"
          }
        }
      ]
    },
    {
      "cell_type": "code",
      "metadata": {
        "colab": {
          "base_uri": "https://localhost:8080/",
          "height": 333
        },
        "id": "5bjYdNcc39Mo",
        "outputId": "9e281287-b10e-4a66-9e8f-f11eab4b91d0"
      },
      "source": [
        "sns.countplot(\"BersaljuBesok\", data=df_test, palette='Blues_d')\n",
        "plt.show()"
      ],
      "execution_count": null,
      "outputs": [
        {
          "output_type": "stream",
          "text": [
            "/usr/local/lib/python3.7/dist-packages/seaborn/_decorators.py:43: FutureWarning: Pass the following variable as a keyword arg: x. From version 0.12, the only valid positional argument will be `data`, and passing other arguments without an explicit keyword will result in an error or misinterpretation.\n",
            "  FutureWarning\n"
          ],
          "name": "stderr"
        },
        {
          "output_type": "display_data",
          "data": {
            "image/png": "[encoded data removed]",
            "text/plain": [
              "<Figure size 432x288 with 1 Axes>"
            ]
          },
          "metadata": {
            "tags": [],
            "needs_background": "light"
          }
        }
      ]
    },
    {
      "cell_type": "code",
      "metadata": {
        "colab": {
          "base_uri": "https://localhost:8080/",
          "height": 282
        },
        "id": "tkJoe5rF7FzG",
        "outputId": "d612f8a4-db8f-4b93-a492-67ed552f13bc"
      },
      "source": [
        "plt.scatter(df_test.Kelembaban3pm,df_test.BersaljuBesok,marker='+',color='red')"
      ],
      "execution_count": null,
      "outputs": [
        {
          "output_type": "execute_result",
          "data": {
            "text/plain": [
              "<matplotlib.collections.PathCollection at 0x7f91891a2cd0>"
            ]
          },
          "metadata": {
            "tags": []
          },
          "execution_count": 8
        },
        {
          "output_type": "display_data",
          "data": {
            "image/png": "[encoded data removed]",
            "text/plain": [
              "<Figure size 432x288 with 1 Axes>"
            ]
          },
          "metadata": {
            "tags": [],
            "needs_background": "light"
          }
        }
      ]
    },
    {
      "cell_type": "markdown",
      "metadata": {
        "id": "ZatOF6hqI_s8"
      },
      "source": [
        "## Data Split\n",
        "X = Variabel Independent<br>\n",
        "Y = Variabel Dependent"
      ]
    },
    {
      "cell_type": "code",
      "metadata": {
        "id": "9jV9wfjaD-rK"
      },
      "source": [
        "X_train = df_train.loc[:, df_train.columns != 'BersaljuBesok'] # Variabel Independent Data Train\n",
        "y_train = df_train[['BersaljuBesok']] # Variabel Dependent Data Train\n",
        "X_test = df_test.loc[:, df_test.columns != 'BersaljuBesok'] # Variabel Independent Data Test\n",
        "y_test = df_test[['BersaljuBesok']] # Variabel Dependent Data Test"
      ],
      "execution_count": null,
      "outputs": []
    },
    {
      "cell_type": "code",
      "metadata": {
        "colab": {
          "base_uri": "https://localhost:8080/"
        },
        "id": "PLS5PeJXKu24",
        "outputId": "a5aed390-d6ee-42c2-9d1d-f341c5f81002"
      },
      "source": [
        "X_train.info()"
      ],
      "execution_count": null,
      "outputs": [
        {
          "output_type": "stream",
          "text": [
            "<class 'pandas.core.frame.DataFrame'>\n",
            "Int64Index: 42411 entries, 3 to 109093\n",
            "Data columns (total 16 columns):\n",
            " #   Column                    Non-Null Count  Dtype  \n",
            "---  ------                    --------------  -----  \n",
            " 0   SuhuMin                   42411 non-null  float64\n",
            " 1   SuhuMax                   42411 non-null  float64\n",
            " 2   Hujan                     42411 non-null  float64\n",
            " 3   Penguapan                 42411 non-null  float64\n",
            " 4   SinarMatahari             42411 non-null  float64\n",
            " 5   KecepatanAnginTerkencang  42411 non-null  float64\n",
            " 6   KecepatanAngin9am         42411 non-null  float64\n",
            " 7   KecepatanAngin3pm         42411 non-null  float64\n",
            " 8   Kelembaban9am             42411 non-null  float64\n",
            " 9   Kelembaban3pm             42411 non-null  float64\n",
            " 10  Tekanan9am                42411 non-null  float64\n",
            " 11  Tekanan3pm                42411 non-null  float64\n",
            " 12  Awan9am                   42411 non-null  float64\n",
            " 13  Awan3pm                   42411 non-null  float64\n",
            " 14  Suhu9am                   42411 non-null  float64\n",
            " 15  Suhu3pm                   42411 non-null  float64\n",
            "dtypes: float64(16)\n",
            "memory usage: 5.5 MB\n"
          ],
          "name": "stdout"
        }
      ]
    },
    {
      "cell_type": "markdown",
      "metadata": {
        "id": "P_E51HN-se4y"
      },
      "source": [
        "# Classification"
      ]
    },
    {
      "cell_type": "markdown",
      "metadata": {
        "id": "_TVV7v6qstEx"
      },
      "source": [
        "### 1. Logistic Regression"
      ]
    },
    {
      "cell_type": "code",
      "metadata": {
        "id": "W3tuFyXHsqFF",
        "colab": {
          "base_uri": "https://localhost:8080/"
        },
        "outputId": "ce07862d-c5ab-4a0c-e3b5-9f1f0d1778b7"
      },
      "source": [
        "logReg = LogisticRegression(solver='lbfgs', max_iter=1000)\n",
        "logReg.fit(X_train,y_train)\n",
        "y_pred=logReg.predict(X_test)"
      ],
      "execution_count": null,
      "outputs": [
        {
          "output_type": "stream",
          "text": [
            "/usr/local/lib/python3.7/dist-packages/sklearn/utils/validation.py:760: DataConversionWarning: A column-vector y was passed when a 1d array was expected. Please change the shape of y to (n_samples, ), for example using ravel().\n",
            "  y = column_or_1d(y, warn=True)\n"
          ],
          "name": "stderr"
        }
      ]
    },
    {
      "cell_type": "markdown",
      "metadata": {
        "id": "u191Q6FUyTYN"
      },
      "source": [
        "### 2. Confusion Matrix\n",
        "Confusion Matrix merupakan pengukuran performa untuk masalah klasifikasi machine learning dimana keluaran dapat berupa dua kelas atau lebih. Confusion Matrix adalah tabel dengan 4 kombinasi berbeda dari nilai prediksi dan nilai aktual."
      ]
    },
    {
      "cell_type": "markdown",
      "metadata": {
        "id": "siH-6cwjLnaV"
      },
      "source": [
        "#### Evaluasi Model menggunakan Confusion Matrix"
      ]
    },
    {
      "cell_type": "code",
      "metadata": {
        "id": "GpmV6Psi0IRY",
        "colab": {
          "base_uri": "https://localhost:8080/"
        },
        "outputId": "e950c766-30d6-4072-d37f-a5ce26039830"
      },
      "source": [
        "con_matrix = metrics.confusion_matrix(y_test, y_pred)\n",
        "con_matrix"
      ],
      "execution_count": null,
      "outputs": [
        {
          "output_type": "execute_result",
          "data": {
            "text/plain": [
              "array([[5131,  285],\n",
              "       [ 755,  845]])"
            ]
          },
          "metadata": {
            "tags": []
          },
          "execution_count": 12
        }
      ]
    },
    {
      "cell_type": "markdown",
      "metadata": {
        "id": "uob4WWS_8ee8"
      },
      "source": [
        "##### Visualisasi Confusion Matrix menggunakan Heatmap"
      ]
    },
    {
      "cell_type": "code",
      "metadata": {
        "colab": {
          "base_uri": "https://localhost:8080/",
          "height": 296
        },
        "id": "ApY1b9aV8otZ",
        "outputId": "fc6d3152-ce18-46b9-e9c8-a56e93da8542"
      },
      "source": [
        "sns.heatmap(pd.DataFrame(con_matrix), annot=True, cmap=\"YlGnBu\" ,fmt='g')\n",
        "plt.ylabel('Aktual')\n",
        "plt.xlabel('Prediksi')"
      ],
      "execution_count": null,
      "outputs": [
        {
          "output_type": "execute_result",
          "data": {
            "text/plain": [
              "Text(0.5, 15.0, 'Prediksi')"
            ]
          },
          "metadata": {
            "tags": []
          },
          "execution_count": 13
        },
        {
          "output_type": "display_data",
          "data": {
            "image/png": "[encoded data removed]",
            "text/plain": [
              "<Figure size 432x288 with 2 Axes>"
            ]
          },
          "metadata": {
            "tags": [],
            "needs_background": "light"
          }
        }
      ]
    },
    {
      "cell_type": "markdown",
      "metadata": {
        "id": "Q18wQ3tu9BMr"
      },
      "source": [
        "#### Evaluasi Tingkat Akurasi"
      ]
    },
    {
      "cell_type": "code",
      "metadata": {
        "colab": {
          "base_uri": "https://localhost:8080/"
        },
        "id": "OztLAI__9Nty",
        "outputId": "8c47a3df-2823-4c21-a90f-5ca5e1dd1bd4"
      },
      "source": [
        "print(\"Accuracy:\",metrics.accuracy_score(y_test, y_pred))"
      ],
      "execution_count": null,
      "outputs": [
        {
          "output_type": "stream",
          "text": [
            "Accuracy: 0.8517673888255416\n"
          ],
          "name": "stdout"
        }
      ]
    },
    {
      "cell_type": "markdown",
      "metadata": {
        "id": "LPs_QVuULGDR"
      },
      "source": [
        "# Export Results"
      ]
    },
    {
      "cell_type": "code",
      "metadata": {
        "id": "GTYT3Av8LMv6"
      },
      "source": [
        "hasil = pd.concat([X_test, y_test], axis=1)\n",
        "hasil['Nilai Prediksi'] = y_pred\n",
        "hasil.head()\n",
        "hasil.to_csv('Classification Results.csv') #Uncomment this line to export the Dataset"
      ],
      "execution_count": null,
      "outputs": []
    }
  ]
}